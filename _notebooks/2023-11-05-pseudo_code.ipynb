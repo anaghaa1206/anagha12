{
 "cells": [
  {
   "cell_type": "markdown",
   "metadata": {},
   "source": [
    "\n",
    "Pseudo code for adding two numbers:\n",
    "\n",
    "Start\n",
    "Input num1\n",
    "Input num2\n",
    "result = num1 + num2\n",
    "Display result\n",
    "End\n"
   ]
  },
  {
   "cell_type": "markdown",
   "metadata": {},
   "source": [
    "Pseudo code for a simple if-else statement:\n",
    "\n",
    "Start\n",
    "Input score\n",
    "if score >= 90:\n",
    "    Display \"A grade\"\n",
    "else:\n",
    "    Display \"B grade or lower\"\n",
    "End\n",
    "\n"
   ]
  },
  {
   "cell_type": "markdown",
   "metadata": {},
   "source": [
    "Pseudo code for a for loop:\n",
    "\n",
    "Start\n",
    "For i from 1 to 5:\n",
    "    Display i\n",
    "End\n"
   ]
  },
  {
   "cell_type": "markdown",
   "metadata": {},
   "source": [
    "Pseudo code for getting user input and displaying a message:\n",
    "\n",
    "Start\n",
    "Input name\n",
    "Display \"Hello, \" + name\n",
    "End\n"
   ]
  }
 ],
 "metadata": {
  "language_info": {
   "name": "python"
  },
  "orig_nbformat": 4
 },
 "nbformat": 4,
 "nbformat_minor": 2
}
