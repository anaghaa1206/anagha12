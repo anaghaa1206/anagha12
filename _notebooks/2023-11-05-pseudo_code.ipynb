{
 "cells": [
  {
   "cell_type": "markdown",
   "metadata": {},
   "source": [
    "Basic Algorithm:\n",
    "Pseudo code for adding two numbers:\n",
    "\n",
    "Start\n",
    "Input num1\n",
    "Input num2\n",
    "result = num1 + num2\n",
    "Display result\n",
    "End\n"
   ]
  },
  {
   "cell_type": "markdown",
   "metadata": {},
   "source": []
  }
 ],
 "metadata": {
  "language_info": {
   "name": "python"
  },
  "orig_nbformat": 4
 },
 "nbformat": 4,
 "nbformat_minor": 2
}
