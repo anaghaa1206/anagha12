{
 "cells": [
  {
   "cell_type": "markdown",
   "metadata": {},
   "source": [
    "---\n",
    "toc: true\n",
    "comments: true\n",
    "layout: post\n",
    "title: Creating a Dictionary Using Python\n",
    "type: hacks\n",
    "courses: { compsci: {week: 3} }\n",
    "---"
   ]
  },
  {
   "cell_type": "markdown",
   "metadata": {},
   "source": [
    "How to Create a Dictionary Using Python"
   ]
  },
  {
   "cell_type": "markdown",
   "metadata": {},
   "source": [
    "The dictionary asks the user to input a word and as a result provides \n",
    "the defintion and what part of speech it is."
   ]
  },
  {
   "cell_type": "markdown",
   "metadata": {},
   "source": [
    "copy paste the code below and run it in order to install PyDictionary:"
   ]
  },
  {
   "cell_type": "code",
   "execution_count": null,
   "metadata": {},
   "outputs": [],
   "source": [
    "pip install PyDictionary\n"
   ]
  },
  {
   "cell_type": "markdown",
   "metadata": {},
   "source": []
  },
  {
   "cell_type": "markdown",
   "metadata": {},
   "source": [
    "Once You have run the code above, run this code:"
   ]
  },
  {
   "cell_type": "code",
   "execution_count": null,
   "metadata": {},
   "outputs": [],
   "source": [
    "from PyDictionary import PyDictionary\n",
    "\n",
    "# Initialize the PyDictionary\n",
    "dictionary = PyDictionary()\n",
    "\n",
    "# Function to fetch the meaning of a word\n",
    "def fetch_meaning(word):\n",
    "    try:\n",
    "        meanings = dictionary.meaning(word)\n",
    "        if meanings:\n",
    "            for part_of_speech, definition_list in meanings.items():\n",
    "                print(f\"{part_of_speech}:\")\n",
    "                for definition in definition_list:\n",
    "                    print(f\"  - {definition}\")\n",
    "        else:\n",
    "            print(f\"Meaning not found for '{word}'\")\n",
    "    except Exception as e:\n",
    "        print(f\"An error occurred: {e}\")\n",
    "\n",
    "# Simple CLI interface for word lookup\n",
    "while True:\n",
    "    user_input = input(\"Enter a word to lookup (or 'exit' to quit): \").strip()\n",
    "    \n",
    "    if user_input.lower() == 'exit':\n",
    "        break\n",
    "    \n",
    "    fetch_meaning(user_input)\n"
   ]
  }
 ],
 "metadata": {
  "language_info": {
   "name": "python"
  },
  "orig_nbformat": 4
 },
 "nbformat": 4,
 "nbformat_minor": 2
}
