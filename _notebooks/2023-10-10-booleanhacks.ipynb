{
 "cells": [
  {
   "cell_type": "code",
   "execution_count": 1,
   "metadata": {},
   "outputs": [
    {
     "name": "stdout",
     "output_type": "stream",
     "text": [
      "True\n"
     ]
    }
   ],
   "source": [
    "#popcorn hack\n",
    "num1 = 7  \n",
    "num2 = 7  \n",
    "\n",
    "are_equal = num1 == num2\n",
    "\n",
    "print(are_equal)"
   ]
  },
  {
   "cell_type": "code",
   "execution_count": 2,
   "metadata": {},
   "outputs": [
    {
     "name": "stdout",
     "output_type": "stream",
     "text": [
      "False\n"
     ]
    }
   ],
   "source": [
    "#popcorn hack\n",
    "num1 = 5  \n",
    "num2 = 5  \n",
    "\n",
    "are_not_equal = num1 != num2\n",
    "\n",
    "print(are_not_equal)"
   ]
  },
  {
   "cell_type": "code",
   "execution_count": 4,
   "metadata": {},
   "outputs": [
    {
     "name": "stdout",
     "output_type": "stream",
     "text": [
      "False\n"
     ]
    }
   ],
   "source": [
    "#popcorn hack\n",
    "num1 = 5  \n",
    "num2 = 7  \n",
    "\n",
    "is_less_than = num1 > num2\n",
    "\n",
    "print(is_less_than)"
   ]
  },
  {
   "cell_type": "code",
   "execution_count": 6,
   "metadata": {},
   "outputs": [
    {
     "name": "stdout",
     "output_type": "stream",
     "text": [
      "True\n"
     ]
    }
   ],
   "source": [
    "#popcorn hack\n",
    "num1 = 9  \n",
    "num2 = 7  \n",
    "\n",
    "is_greater_than = num1 > num2\n",
    "\n",
    "print(is_greater_than)"
   ]
  },
  {
   "cell_type": "code",
   "execution_count": 8,
   "metadata": {},
   "outputs": [
    {
     "name": "stdout",
     "output_type": "stream",
     "text": [
      "False\n",
      "True\n"
     ]
    }
   ],
   "source": [
    "#popcorn hack\n",
    "grade = 100\n",
    "result = grade > 70 and grade < 100\n",
    "print(result)\n",
    "grade = 85\n",
    "result = grade > 70 and grade < 100\n",
    "print(result)"
   ]
  },
  {
   "cell_type": "code",
   "execution_count": 10,
   "metadata": {},
   "outputs": [
    {
     "name": "stdout",
     "output_type": "stream",
     "text": [
      "True\n",
      "False\n"
     ]
    }
   ],
   "source": [
    "#popcorn hack\n",
    "score = 175\n",
    "highScore = 150\n",
    "lives = 2\n",
    "result = (score < highScore) or (lives < 3)\n",
    "print(result)\n",
    "score = 175\n",
    "highScore = 150\n",
    "lives = 2\n",
    "result = (score < highScore) or (lives > 3)\n",
    "print(result)"
   ]
  },
  {
   "cell_type": "code",
   "execution_count": 11,
   "metadata": {},
   "outputs": [
    {
     "name": "stdout",
     "output_type": "stream",
     "text": [
      "18\n"
     ]
    }
   ],
   "source": [
    "#popcorn hack\n",
    "num1 = 6\n",
    "num2 = 12\n",
    "\n",
    "sum = num1 +num2\n",
    "\n",
    "if sum>100:\n",
    "    print('100')\n",
    "else:\n",
    "    print(sum)"
   ]
  },
  {
   "cell_type": "code",
   "execution_count": 13,
   "metadata": {},
   "outputs": [
    {
     "name": "stdout",
     "output_type": "stream",
     "text": [
      "True\n",
      "False\n"
     ]
    }
   ],
   "source": [
    "#homework hack 1\n",
    "\n",
    "#true \n",
    "student1 = 95\n",
    "student2 = 80\n",
    "student3 = 90\n",
    "\n",
    "average = (student1+student2+student3)/3\n",
    "is_greater_than = average >= 85\n",
    "print(is_greater_than)\n",
    "\n",
    "#false\n",
    "student4 = 70\n",
    "student5 = 75\n",
    "student6 = 76\n",
    "\n",
    "average = (student4+student5+student6)/3\n",
    "is_greater_than = average >= 85\n",
    "print(is_greater_than)"
   ]
  },
  {
   "cell_type": "code",
   "execution_count": 14,
   "metadata": {},
   "outputs": [
    {
     "name": "stdout",
     "output_type": "stream",
     "text": [
      "False\n"
     ]
    }
   ],
   "source": [
    "temp = 15\n",
    "weather = 'stormy'\n",
    "cangoout = weather = 'stormy' and temp>=20\n",
    "print(cangoout)\n"
   ]
  }
 ],
 "metadata": {
  "kernelspec": {
   "display_name": "Python 3",
   "language": "python",
   "name": "python3"
  },
  "language_info": {
   "codemirror_mode": {
    "name": "ipython",
    "version": 3
   },
   "file_extension": ".py",
   "mimetype": "text/x-python",
   "name": "python",
   "nbconvert_exporter": "python",
   "pygments_lexer": "ipython3",
   "version": "3.9.6"
  },
  "orig_nbformat": 4
 },
 "nbformat": 4,
 "nbformat_minor": 2
}
