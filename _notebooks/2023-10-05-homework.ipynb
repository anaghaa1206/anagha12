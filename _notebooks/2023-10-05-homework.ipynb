{
 "cells": [
  {
   "cell_type": "raw",
   "metadata": {},
   "source": [
    "Hack 1\n",
    "variable 1 is a integer\n",
    "variable 2 is a string\n",
    "variable 3 is a list\n",
    "variable 4 is a boolean"
   ]
  },
  {
   "cell_type": "code",
   "execution_count": 4,
   "metadata": {},
   "outputs": [
    {
     "name": "stdout",
     "output_type": "stream",
     "text": [
      "12\n",
      "pizza is my favorite food and its base is made offlour\n",
      "Sundayis my favorite day\n",
      "True, I have to study a lot\n",
      "<class 'list'>\n",
      "[\"Monday\", \"Tuesday\", \"Wednesday\", \"Thursday\", \"Friday\", \"Saturday\", \"Sunday\"]\n",
      "<class 'str'>\n"
     ]
    }
   ],
   "source": [
    "#Variable 1\n",
    "\n",
    "luckynumber = 12\n",
    "print(luckynumber)\n",
    "\n",
    "#Variable 2\n",
    "favfood = \"pizza\"\n",
    "ingridient = \"flour\"\n",
    "print(favfood + (\" is my favorite food and its base is made of\")+(ingridient))\n",
    "\n",
    "#Variable 3\n",
    "\n",
    "daysofWeek = [\"Monday\", \"Tuesday\", \"Wednesday\", \"Thursday\", \"Friday\", \"Saturday\", \"Sunday\"]\n",
    "print(daysofWeek[6] + (\"is my favorite day\"))\n",
    "\n",
    "#Variable 4\n",
    "\n",
    "physicsisHard = True\n",
    "print(str(physicsisHard) + (\", I have to study a lot\"))\n",
    "\n",
    "#Hack 2\n",
    "\n",
    "import json\n",
    "daysofWeek = [\"Monday\", \"Tuesday\", \"Wednesday\", \"Thursday\", \"Friday\", \"Saturday\", \"Sunday\"]\n",
    "print(type(daysofWeek))\n",
    "a = json.dumps(daysofWeek)\n",
    "print(a)\n",
    "print(type(a))\n"
   ]
  }
 ],
 "metadata": {
  "kernelspec": {
   "display_name": "Python 3",
   "language": "python",
   "name": "python3"
  },
  "language_info": {
   "codemirror_mode": {
    "name": "ipython",
    "version": 3
   },
   "file_extension": ".py",
   "mimetype": "text/x-python",
   "name": "python",
   "nbconvert_exporter": "python",
   "pygments_lexer": "ipython3",
   "version": "3.9.6"
  },
  "orig_nbformat": 4
 },
 "nbformat": 4,
 "nbformat_minor": 2
}
