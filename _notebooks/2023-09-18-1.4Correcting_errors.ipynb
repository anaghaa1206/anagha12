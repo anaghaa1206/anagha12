{
 "cells": [
  {
   "cell_type": "markdown",
   "metadata": {},
   "source": [
    "---\n",
    "toc: True\n",
    "comments: False\n",
    "layout: post\n",
    "title: 1.4 Correcting errors\n",
    "type: hacks\n",
    "courses: {'compsci': {'week': 4}}\n",
    "---"
   ]
  },
  {
   "cell_type": "code",
   "execution_count": 1,
   "metadata": {},
   "outputs": [
    {
     "name": "stdout",
     "output_type": "stream",
     "text": [
      "Menu\n",
      "burger  $3.99\n",
      "fries  $1.99\n",
      "drink  $0.99\n",
      "0\n"
     ]
    }
   ],
   "source": [
    "menu =  {\"burger\": 3.99,\n",
    "         \"fries\": 1.99,\n",
    "         \"drink\": 0.99}\n",
    "total = 0\n",
    "\n",
    "#shows the user the menu and prompts them to select an item\n",
    "print(\"Menu\")\n",
    "for k,v in menu.items():\n",
    "    print(k + \"  $\" + str(v)) #why does v have \"str\" in front of it?\n",
    "\n",
    "#ideally the code should prompt the user multiple times\n",
    "item = input(\"Please select an item from the menu\")\n",
    "\n",
    "#code should add the price of the menu items selected by the user \n",
    "print(total)"
   ]
  },
  {
   "cell_type": "code",
   "execution_count": 3,
   "metadata": {},
   "outputs": [
    {
     "name": "stdout",
     "output_type": "stream",
     "text": [
      "Menu\n",
      "burger  $3.99\n",
      "fries  $1.99\n",
      "drink  $0.99\n",
      "fries - $1.99\n",
      "burger - $3.99\n",
      "fries - $1.99\n",
      "fries - $1.99\n",
      "drink - $0.99\n",
      "drink - $0.99\n",
      "Invalid item. Please choose from the menu.\n",
      "Invalid item. Please choose from the menu.\n",
      "Invalid item. Please choose from the menu.\n",
      "Invalid item. Please choose from the menu.\n",
      "Invalid item. Please choose from the menu.\n",
      "Invalid item. Please choose from the menu.\n",
      "Total: $ 11.940000000000001\n"
     ]
    }
   ],
   "source": [
    "menu =  {\"burger\": 3.99,\n",
    "         \"fries\": 1.99,\n",
    "         \"drink\": 0.99}\n",
    "total = 0\n",
    "\n",
    "# Display the menu to the user\n",
    "print(\"Menu\")\n",
    "for k, v in menu.items():\n",
    "    print(k + \"  $\" + str(v))\n",
    "\n",
    "# Prompt the user to select items until they're done\n",
    "while True:\n",
    "    item = input(\"Please select an item from the menu (or 'done' to finish): \")\n",
    "    \n",
    "    if item.lower() == 'done':\n",
    "        break\n",
    "    \n",
    "    if item in menu:\n",
    "        price = menu[item]\n",
    "        print(f\"{item} - ${price:.2f}\")\n",
    "        total += price\n",
    "    else:\n",
    "        print(\"Invalid item. Please choose from the menu.\")\n",
    "\n",
    "# Display the total cost\n",
    "print(\"Total: $\", total)\n"
   ]
  }
 ],
 "metadata": {
  "kernelspec": {
   "display_name": "Python 3",
   "language": "python",
   "name": "python3"
  },
  "language_info": {
   "codemirror_mode": {
    "name": "ipython",
    "version": 3
   },
   "file_extension": ".py",
   "mimetype": "text/x-python",
   "name": "python",
   "nbconvert_exporter": "python",
   "pygments_lexer": "ipython3",
   "version": "3.9.6"
  },
  "orig_nbformat": 4
 },
 "nbformat": 4,
 "nbformat_minor": 2
}
