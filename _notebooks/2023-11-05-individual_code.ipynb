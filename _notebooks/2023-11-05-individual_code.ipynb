{
 "cells": [
  {
   "cell_type": "code",
   "execution_count": null,
   "metadata": {},
   "outputs": [],
   "source": [
    "from flask import Blueprint, jsonify  # These are used to create a Blueprint for organizing routes and to create JSON responses\n",
    "from flask_restful import Api, Resource # These are used to define REST API routes and resources\n",
    "import requests  # used for testing \n",
    "import random # This module is used for generating random values, though it's not used in the provided code.\n",
    "import http.client #This module is imported but not used in the code\n",
    "\n",
    "from model.cityimagesmodel import *\n",
    "\n",
    "cityImage_api = Blueprint('cityImage_api', __name__,   \n",
    "                   url_prefix='/api/cityimage')\n",
    "#By creating a Blueprint with a specific name and URL prefix, you can group related routes and views together. \n",
    "#This makes it easier to organize and manage your application, especially when you have multiple Blueprints or complex route structures.\n",
    "\n",
    "# API generator https://flask-restful.readthedocs.io/en/latest/api.html#id1\n",
    "api = Api(cityImage_api)\n",
    "\n",
    "class CityImageAPI:\n",
    "    # The CityImageAPI class is defined but is not yet implemented. \n",
    "    # This class is meant to define various API endpoints and resources related to city images, but it currently lacks any implemented methods.\n",
    "    \n",
    "    class _Read(Resource):\n",
    "        def get(self, cityName):\n",
    "            return_dictionary = {\"image_url\": getCityImage(cityName)}\n",
    "            return jsonify(return_dictionary)\n",
    "# 1.Receives the cityName as a parameter from the URL.\n",
    "# 2.Calls a function getCityImage(cityName) to get the image URL associated with the provided city name.\n",
    "# 3.Constructs a JSON dictionary containing the image URL with the key \"image_url.\"\n",
    "# 4.Returns this JSON dictionary as a response using Flask's jsonify function, making it an HTTP response with JSON content.\n",
    "\n",
    "    api.add_resource(_Read, '/<string:cityName>')\n",
    "\n",
    "if __name__ == \"__main__\": \n",
    "    # server = \"http://127.0.0.1:5000\" # run local\n",
    "    server = 'https://flask.nighthawkcodingsociety.com' # run from web\n",
    "    url = server + \"/api/cityimage\"\n",
    "    responses = []  # responses list\n",
    "# 1.It sets the server variable to either a local or a web server URL based on the current execution context. \n",
    "#   If running locally, it's using \"http://127.0.0.1:5000\" as the server URL. If running from the web, it uses 'https://flask.nighthawkcodingsociety.com'.\n",
    "# 2.It constructs the url by appending \"/api/cityimage\" to the server URL. This URL represents the endpoint of the Flask API.\n",
    "# 3.It initializes an empty list called responses. This list is likely intended to store responses received from making HTTP requests to the url. \n",
    "#   The purpose of this list may become clearer in the rest of the code or in subsequent parts of the script.\n",
    "    "
   ]
  }
 ],
 "metadata": {
  "language_info": {
   "name": "python"
  },
  "orig_nbformat": 4
 },
 "nbformat": 4,
 "nbformat_minor": 2
}
