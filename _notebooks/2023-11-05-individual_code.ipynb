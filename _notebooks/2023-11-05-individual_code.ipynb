{
 "cells": [
  {
   "cell_type": "code",
   "execution_count": null,
   "metadata": {},
   "outputs": [],
   "source": [
    "from flask import Blueprint, jsonify  # jsonify creates an endpoint response object\n",
    "from flask_restful import Api, Resource # used for REST API building\n",
    "import requests  # used for testing \n",
    "import random\n",
    "import http.client\n",
    "\n",
    "from model.cityimagesmodel import *\n",
    "\n",
    "cityImage_api = Blueprint('cityImage_api', __name__,\n",
    "                   url_prefix='/api/cityimage')\n",
    "\n",
    "# API generator https://flask-restful.readthedocs.io/en/latest/api.html#id1\n",
    "api = Api(cityImage_api)\n",
    "\n",
    "class CityImageAPI:\n",
    "    # not implemented\n",
    "    \n",
    "    class _Read(Resource):\n",
    "        def get(self, cityName):\n",
    "            return_dictionary = {\"image_url\": getCityImage(cityName)}\n",
    "            return jsonify(return_dictionary)\n",
    "        \n",
    "\n",
    "    api.add_resource(_Read, '/<string:cityName>')\n",
    "\n",
    "if __name__ == \"__main__\": \n",
    "    # server = \"http://127.0.0.1:5000\" # run local\n",
    "    server = 'https://flask.nighthawkcodingsociety.com' # run from web\n",
    "    url = server + \"/api/cityimage\"\n",
    "    responses = []  # responses list\n",
    "    "
   ]
  }
 ],
 "metadata": {
  "language_info": {
   "name": "python"
  },
  "orig_nbformat": 4
 },
 "nbformat": 4,
 "nbformat_minor": 2
}
